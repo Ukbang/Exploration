{
 "cells": [
  {
   "cell_type": "markdown",
   "id": "f2b63cec",
   "metadata": {},
   "source": [
    "## 모델 지정"
   ]
  },
  {
   "cell_type": "code",
   "execution_count": null,
   "id": "9c51db42",
   "metadata": {},
   "outputs": [],
   "source": [
    "def model(x, w, b):\n",
    "    y = w * x + b\n",
    "    return y\n",
    "# 변수가 2개"
   ]
  },
  {
   "cell_type": "code",
   "execution_count": null,
   "id": "291a0575",
   "metadata": {},
   "outputs": [],
   "source": [
    "def model(X, W, b):\n",
    "    predictions = 0\n",
    "    for i in range(12):\n",
    "        predictions += X[:, i] * W[i]\n",
    "    predictions += b\n",
    "    return predictions\n",
    "# 변수가 여러개"
   ]
  },
  {
   "cell_type": "markdown",
   "id": "91cfbb18",
   "metadata": {},
   "source": [
    "## MSE , RMSE 지정"
   ]
  },
  {
   "cell_type": "code",
   "execution_count": null,
   "id": "b927543e",
   "metadata": {},
   "outputs": [],
   "source": [
    "def MSE(a,b):\n",
    "    mse = ((a-b)**2).mean() # 두 값의 차이의 제곱의 평균\n",
    "    return mse"
   ]
  },
  {
   "cell_type": "code",
   "execution_count": null,
   "id": "d984633b",
   "metadata": {},
   "outputs": [],
   "source": [
    "def RMSE(a, b):\n",
    "    mse = ((a - b) ** 2).mean() # 두 값의 차이의 제곱의 평균\n",
    "    rmse = mse ** 0.5 # mse의 제곱근\n",
    "    return rmse"
   ]
  },
  {
   "cell_type": "markdown",
   "id": "ea809e27",
   "metadata": {},
   "source": [
    "## 손실함수 지정"
   ]
  },
  {
   "cell_type": "code",
   "execution_count": null,
   "id": "9b7cd715",
   "metadata": {},
   "outputs": [],
   "source": [
    "def loss(X, W, b, y):\n",
    "    predictions = model(X, W, b)\n",
    "    L = MSE(predictions, y)\n",
    "    return L"
   ]
  },
  {
   "cell_type": "markdown",
   "id": "644d9ca6",
   "metadata": {},
   "source": [
    "## 기울기 함수 지정"
   ]
  },
  {
   "cell_type": "code",
   "execution_count": null,
   "id": "f5e2d60b",
   "metadata": {},
   "outputs": [],
   "source": [
    "def gradient(x, w, b, y):\n",
    "    dw = (loss(x, w + 0.0001, b, y) - loss(x, w, b, y)) / 0.0001\n",
    "    db = (loss(x, w, b + 0.0001, y) - loss(x, w, b, y)) / 0.0001\n",
    "    return dw, db"
   ]
  },
  {
   "cell_type": "code",
   "execution_count": null,
   "id": "8964bdda",
   "metadata": {},
   "outputs": [],
   "source": [
    "def gradient(X, W, b, y):\n",
    "    # N은 가중치의 개수\n",
    "    N = len(W)\n",
    "    \n",
    "    # y_pred 준비\n",
    "    y_pred = model(X, W, b)\n",
    "    \n",
    "    # 공식에 맞게 gradient 계산\n",
    "    dW = 1/N * 2 * X.T.dot(y_pred -y)\n",
    "    \n",
    "    # b의 gradient 계산\n",
    "    db = 2 * (y_pred - y).mean()\n",
    "    return dW, db\n"
   ]
  },
  {
   "cell_type": "markdown",
   "id": "45de154b",
   "metadata": {},
   "source": [
    "## 학습량 조절 (Learning_rate) 생성"
   ]
  },
  {
   "cell_type": "markdown",
   "id": "bb4a17f7",
   "metadata": {},
   "source": [
    "## 확인하기위한 빈 리스트 생성"
   ]
  }
 ],
 "metadata": {
  "kernelspec": {
   "display_name": "Python 3 (ipykernel)",
   "language": "python",
   "name": "python3"
  },
  "language_info": {
   "codemirror_mode": {
    "name": "ipython",
    "version": 3
   },
   "file_extension": ".py",
   "mimetype": "text/x-python",
   "name": "python",
   "nbconvert_exporter": "python",
   "pygments_lexer": "ipython3",
   "version": "3.9.7"
  }
 },
 "nbformat": 4,
 "nbformat_minor": 5
}
