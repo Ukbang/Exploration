{
 "cells": [
  {
   "cell_type": "markdown",
   "id": "4378c6e6",
   "metadata": {},
   "source": [
    "# 제목 : 이번엔 하나가 아니다! 다양한 정보로 원하는 값을 예측해보기\n",
    "\n",
    "====================================================================================================================================="
   ]
  },
  {
   "cell_type": "markdown",
   "id": "414db8e2",
   "metadata": {},
   "source": [
    "## (1) 손님의 성별, 수, 전체 먹은 금액 등으로 내가 받을 팁을 예측할 수 있을까?\n",
    "  \n",
    "  \n",
    "- 다변수 데이터에 대해 선형회귀를 하기 위한 데이터를 확인하고 모델 설계하기"
   ]
  },
  {
   "cell_type": "code",
   "execution_count": 1,
   "id": "5b2181af",
   "metadata": {},
   "outputs": [
    {
     "data": {
      "text/plain": [
       "['anagrams',\n",
       " 'anscombe',\n",
       " 'attention',\n",
       " 'brain_networks',\n",
       " 'car_crashes',\n",
       " 'diamonds',\n",
       " 'dots',\n",
       " 'dowjones',\n",
       " 'exercise',\n",
       " 'flights',\n",
       " 'fmri',\n",
       " 'geyser',\n",
       " 'glue',\n",
       " 'healthexp',\n",
       " 'iris',\n",
       " 'mpg',\n",
       " 'penguins',\n",
       " 'planets',\n",
       " 'seaice',\n",
       " 'taxis',\n",
       " 'tips',\n",
       " 'titanic']"
      ]
     },
     "execution_count": 1,
     "metadata": {},
     "output_type": "execute_result"
    }
   ],
   "source": [
    "import seaborn as sns\n",
    "\n",
    "sns.get_dataset_names()"
   ]
  },
  {
   "cell_type": "code",
   "execution_count": 2,
   "id": "005e8e20",
   "metadata": {},
   "outputs": [
    {
     "name": "stdout",
     "output_type": "stream",
     "text": [
      "(244, 7)\n"
     ]
    },
    {
     "data": {
      "text/html": [
       "<div>\n",
       "<style scoped>\n",
       "    .dataframe tbody tr th:only-of-type {\n",
       "        vertical-align: middle;\n",
       "    }\n",
       "\n",
       "    .dataframe tbody tr th {\n",
       "        vertical-align: top;\n",
       "    }\n",
       "\n",
       "    .dataframe thead th {\n",
       "        text-align: right;\n",
       "    }\n",
       "</style>\n",
       "<table border=\"1\" class=\"dataframe\">\n",
       "  <thead>\n",
       "    <tr style=\"text-align: right;\">\n",
       "      <th></th>\n",
       "      <th>total_bill</th>\n",
       "      <th>tip</th>\n",
       "      <th>sex</th>\n",
       "      <th>smoker</th>\n",
       "      <th>day</th>\n",
       "      <th>time</th>\n",
       "      <th>size</th>\n",
       "    </tr>\n",
       "  </thead>\n",
       "  <tbody>\n",
       "    <tr>\n",
       "      <th>0</th>\n",
       "      <td>16.99</td>\n",
       "      <td>1.01</td>\n",
       "      <td>Female</td>\n",
       "      <td>No</td>\n",
       "      <td>Sun</td>\n",
       "      <td>Dinner</td>\n",
       "      <td>2</td>\n",
       "    </tr>\n",
       "    <tr>\n",
       "      <th>1</th>\n",
       "      <td>10.34</td>\n",
       "      <td>1.66</td>\n",
       "      <td>Male</td>\n",
       "      <td>No</td>\n",
       "      <td>Sun</td>\n",
       "      <td>Dinner</td>\n",
       "      <td>3</td>\n",
       "    </tr>\n",
       "    <tr>\n",
       "      <th>2</th>\n",
       "      <td>21.01</td>\n",
       "      <td>3.50</td>\n",
       "      <td>Male</td>\n",
       "      <td>No</td>\n",
       "      <td>Sun</td>\n",
       "      <td>Dinner</td>\n",
       "      <td>3</td>\n",
       "    </tr>\n",
       "    <tr>\n",
       "      <th>3</th>\n",
       "      <td>23.68</td>\n",
       "      <td>3.31</td>\n",
       "      <td>Male</td>\n",
       "      <td>No</td>\n",
       "      <td>Sun</td>\n",
       "      <td>Dinner</td>\n",
       "      <td>2</td>\n",
       "    </tr>\n",
       "    <tr>\n",
       "      <th>4</th>\n",
       "      <td>24.59</td>\n",
       "      <td>3.61</td>\n",
       "      <td>Female</td>\n",
       "      <td>No</td>\n",
       "      <td>Sun</td>\n",
       "      <td>Dinner</td>\n",
       "      <td>4</td>\n",
       "    </tr>\n",
       "  </tbody>\n",
       "</table>\n",
       "</div>"
      ],
      "text/plain": [
       "   total_bill   tip     sex smoker  day    time  size\n",
       "0       16.99  1.01  Female     No  Sun  Dinner     2\n",
       "1       10.34  1.66    Male     No  Sun  Dinner     3\n",
       "2       21.01  3.50    Male     No  Sun  Dinner     3\n",
       "3       23.68  3.31    Male     No  Sun  Dinner     2\n",
       "4       24.59  3.61  Female     No  Sun  Dinner     4"
      ]
     },
     "execution_count": 2,
     "metadata": {},
     "output_type": "execute_result"
    }
   ],
   "source": [
    "tips = sns.load_dataset(\"tips\")\n",
    "print(tips.shape)\n",
    "tips.head()"
   ]
  },
  {
   "cell_type": "code",
   "execution_count": 3,
   "id": "88312cfc",
   "metadata": {},
   "outputs": [
    {
     "data": {
      "text/plain": [
       "total_bill     float64\n",
       "tip            float64\n",
       "sex           category\n",
       "smoker        category\n",
       "day           category\n",
       "time          category\n",
       "size             int64\n",
       "dtype: object"
      ]
     },
     "execution_count": 3,
     "metadata": {},
     "output_type": "execute_result"
    }
   ],
   "source": [
    "tips.dtypes"
   ]
  },
  {
   "cell_type": "markdown",
   "id": "25e01b37",
   "metadata": {},
   "source": [
    "### 문자열 형태의 데이터를 실수로 변환하여야 한다.\n",
    "- pandas 의 get_dummies() 함수를 활용해 문자열 데이터에 대해서 0, 1로 변환한다\n",
    "  \n",
    "  \n",
    "- category data는 get_dummies() 함수로 손쉽게 원-핫 인코딩을 할 수 있다."
   ]
  },
  {
   "cell_type": "code",
   "execution_count": 5,
   "id": "bfc0337d",
   "metadata": {},
   "outputs": [
    {
     "data": {
      "text/html": [
       "<div>\n",
       "<style scoped>\n",
       "    .dataframe tbody tr th:only-of-type {\n",
       "        vertical-align: middle;\n",
       "    }\n",
       "\n",
       "    .dataframe tbody tr th {\n",
       "        vertical-align: top;\n",
       "    }\n",
       "\n",
       "    .dataframe thead th {\n",
       "        text-align: right;\n",
       "    }\n",
       "</style>\n",
       "<table border=\"1\" class=\"dataframe\">\n",
       "  <thead>\n",
       "    <tr style=\"text-align: right;\">\n",
       "      <th></th>\n",
       "      <th>total_bill</th>\n",
       "      <th>tip</th>\n",
       "      <th>size</th>\n",
       "      <th>sex_Male</th>\n",
       "      <th>sex_Female</th>\n",
       "      <th>smoker_Yes</th>\n",
       "      <th>smoker_No</th>\n",
       "      <th>day_Thur</th>\n",
       "      <th>day_Fri</th>\n",
       "      <th>day_Sat</th>\n",
       "      <th>day_Sun</th>\n",
       "      <th>time_Lunch</th>\n",
       "      <th>time_Dinner</th>\n",
       "    </tr>\n",
       "  </thead>\n",
       "  <tbody>\n",
       "    <tr>\n",
       "      <th>0</th>\n",
       "      <td>16.99</td>\n",
       "      <td>1.01</td>\n",
       "      <td>2</td>\n",
       "      <td>0</td>\n",
       "      <td>1</td>\n",
       "      <td>0</td>\n",
       "      <td>1</td>\n",
       "      <td>0</td>\n",
       "      <td>0</td>\n",
       "      <td>0</td>\n",
       "      <td>1</td>\n",
       "      <td>0</td>\n",
       "      <td>1</td>\n",
       "    </tr>\n",
       "    <tr>\n",
       "      <th>1</th>\n",
       "      <td>10.34</td>\n",
       "      <td>1.66</td>\n",
       "      <td>3</td>\n",
       "      <td>1</td>\n",
       "      <td>0</td>\n",
       "      <td>0</td>\n",
       "      <td>1</td>\n",
       "      <td>0</td>\n",
       "      <td>0</td>\n",
       "      <td>0</td>\n",
       "      <td>1</td>\n",
       "      <td>0</td>\n",
       "      <td>1</td>\n",
       "    </tr>\n",
       "    <tr>\n",
       "      <th>2</th>\n",
       "      <td>21.01</td>\n",
       "      <td>3.50</td>\n",
       "      <td>3</td>\n",
       "      <td>1</td>\n",
       "      <td>0</td>\n",
       "      <td>0</td>\n",
       "      <td>1</td>\n",
       "      <td>0</td>\n",
       "      <td>0</td>\n",
       "      <td>0</td>\n",
       "      <td>1</td>\n",
       "      <td>0</td>\n",
       "      <td>1</td>\n",
       "    </tr>\n",
       "    <tr>\n",
       "      <th>3</th>\n",
       "      <td>23.68</td>\n",
       "      <td>3.31</td>\n",
       "      <td>2</td>\n",
       "      <td>1</td>\n",
       "      <td>0</td>\n",
       "      <td>0</td>\n",
       "      <td>1</td>\n",
       "      <td>0</td>\n",
       "      <td>0</td>\n",
       "      <td>0</td>\n",
       "      <td>1</td>\n",
       "      <td>0</td>\n",
       "      <td>1</td>\n",
       "    </tr>\n",
       "    <tr>\n",
       "      <th>4</th>\n",
       "      <td>24.59</td>\n",
       "      <td>3.61</td>\n",
       "      <td>4</td>\n",
       "      <td>0</td>\n",
       "      <td>1</td>\n",
       "      <td>0</td>\n",
       "      <td>1</td>\n",
       "      <td>0</td>\n",
       "      <td>0</td>\n",
       "      <td>0</td>\n",
       "      <td>1</td>\n",
       "      <td>0</td>\n",
       "      <td>1</td>\n",
       "    </tr>\n",
       "  </tbody>\n",
       "</table>\n",
       "</div>"
      ],
      "text/plain": [
       "   total_bill   tip  size  sex_Male  sex_Female  smoker_Yes  smoker_No  \\\n",
       "0       16.99  1.01     2         0           1           0          1   \n",
       "1       10.34  1.66     3         1           0           0          1   \n",
       "2       21.01  3.50     3         1           0           0          1   \n",
       "3       23.68  3.31     2         1           0           0          1   \n",
       "4       24.59  3.61     4         0           1           0          1   \n",
       "\n",
       "   day_Thur  day_Fri  day_Sat  day_Sun  time_Lunch  time_Dinner  \n",
       "0         0        0        0        1           0            1  \n",
       "1         0        0        0        1           0            1  \n",
       "2         0        0        0        1           0            1  \n",
       "3         0        0        0        1           0            1  \n",
       "4         0        0        0        1           0            1  "
      ]
     },
     "execution_count": 5,
     "metadata": {},
     "output_type": "execute_result"
    }
   ],
   "source": [
    "import pandas as pd\n",
    "tips = pd.get_dummies(tips, columns=['sex', 'smoker','day', 'time'])\n",
    "tips.head()"
   ]
  },
  {
   "cell_type": "code",
   "execution_count": 9,
   "id": "e99c193c",
   "metadata": {},
   "outputs": [
    {
     "data": {
      "text/html": [
       "<div>\n",
       "<style scoped>\n",
       "    .dataframe tbody tr th:only-of-type {\n",
       "        vertical-align: middle;\n",
       "    }\n",
       "\n",
       "    .dataframe tbody tr th {\n",
       "        vertical-align: top;\n",
       "    }\n",
       "\n",
       "    .dataframe thead th {\n",
       "        text-align: right;\n",
       "    }\n",
       "</style>\n",
       "<table border=\"1\" class=\"dataframe\">\n",
       "  <thead>\n",
       "    <tr style=\"text-align: right;\">\n",
       "      <th></th>\n",
       "      <th>total_bill</th>\n",
       "      <th>size</th>\n",
       "      <th>sex_Male</th>\n",
       "      <th>sex_Female</th>\n",
       "      <th>smoker_Yes</th>\n",
       "      <th>smoker_No</th>\n",
       "      <th>day_Thur</th>\n",
       "      <th>day_Fri</th>\n",
       "      <th>day_Sat</th>\n",
       "      <th>day_Sun</th>\n",
       "      <th>time_Lunch</th>\n",
       "      <th>time_Dinner</th>\n",
       "      <th>tip</th>\n",
       "    </tr>\n",
       "  </thead>\n",
       "  <tbody>\n",
       "    <tr>\n",
       "      <th>0</th>\n",
       "      <td>16.99</td>\n",
       "      <td>2</td>\n",
       "      <td>0</td>\n",
       "      <td>1</td>\n",
       "      <td>0</td>\n",
       "      <td>1</td>\n",
       "      <td>0</td>\n",
       "      <td>0</td>\n",
       "      <td>0</td>\n",
       "      <td>1</td>\n",
       "      <td>0</td>\n",
       "      <td>1</td>\n",
       "      <td>1.01</td>\n",
       "    </tr>\n",
       "    <tr>\n",
       "      <th>1</th>\n",
       "      <td>10.34</td>\n",
       "      <td>3</td>\n",
       "      <td>1</td>\n",
       "      <td>0</td>\n",
       "      <td>0</td>\n",
       "      <td>1</td>\n",
       "      <td>0</td>\n",
       "      <td>0</td>\n",
       "      <td>0</td>\n",
       "      <td>1</td>\n",
       "      <td>0</td>\n",
       "      <td>1</td>\n",
       "      <td>1.66</td>\n",
       "    </tr>\n",
       "    <tr>\n",
       "      <th>2</th>\n",
       "      <td>21.01</td>\n",
       "      <td>3</td>\n",
       "      <td>1</td>\n",
       "      <td>0</td>\n",
       "      <td>0</td>\n",
       "      <td>1</td>\n",
       "      <td>0</td>\n",
       "      <td>0</td>\n",
       "      <td>0</td>\n",
       "      <td>1</td>\n",
       "      <td>0</td>\n",
       "      <td>1</td>\n",
       "      <td>3.50</td>\n",
       "    </tr>\n",
       "    <tr>\n",
       "      <th>3</th>\n",
       "      <td>23.68</td>\n",
       "      <td>2</td>\n",
       "      <td>1</td>\n",
       "      <td>0</td>\n",
       "      <td>0</td>\n",
       "      <td>1</td>\n",
       "      <td>0</td>\n",
       "      <td>0</td>\n",
       "      <td>0</td>\n",
       "      <td>1</td>\n",
       "      <td>0</td>\n",
       "      <td>1</td>\n",
       "      <td>3.31</td>\n",
       "    </tr>\n",
       "    <tr>\n",
       "      <th>4</th>\n",
       "      <td>24.59</td>\n",
       "      <td>4</td>\n",
       "      <td>0</td>\n",
       "      <td>1</td>\n",
       "      <td>0</td>\n",
       "      <td>1</td>\n",
       "      <td>0</td>\n",
       "      <td>0</td>\n",
       "      <td>0</td>\n",
       "      <td>1</td>\n",
       "      <td>0</td>\n",
       "      <td>1</td>\n",
       "      <td>3.61</td>\n",
       "    </tr>\n",
       "  </tbody>\n",
       "</table>\n",
       "</div>"
      ],
      "text/plain": [
       "   total_bill  size  sex_Male  sex_Female  smoker_Yes  smoker_No  day_Thur  \\\n",
       "0       16.99     2         0           1           0          1         0   \n",
       "1       10.34     3         1           0           0          1         0   \n",
       "2       21.01     3         1           0           0          1         0   \n",
       "3       23.68     2         1           0           0          1         0   \n",
       "4       24.59     4         0           1           0          1         0   \n",
       "\n",
       "   day_Fri  day_Sat  day_Sun  time_Lunch  time_Dinner   tip  \n",
       "0        0        0        1           0            1  1.01  \n",
       "1        0        0        1           0            1  1.66  \n",
       "2        0        0        1           0            1  3.50  \n",
       "3        0        0        1           0            1  3.31  \n",
       "4        0        0        1           0            1  3.61  "
      ]
     },
     "execution_count": 9,
     "metadata": {},
     "output_type": "execute_result"
    }
   ],
   "source": [
    "tips = tips[['total_bill', 'size', 'sex_Male', 'sex_Female', \n",
    "             'smoker_Yes', 'smoker_No', 'day_Thur', 'day_Fri', 'day_Sat','day_Sun',\n",
    "             'time_Lunch', 'time_Dinner', 'tip']]\n",
    "tips.head()"
   ]
  },
  {
   "attachments": {
    "%EA%B0%80%EC%A4%91%EC%B9%98%EC%99%80%20y%EC%A0%88%ED%8E%B8%20%EA%B5%AC%ED%95%98%EA%B8%B0%20%EC%8B%AC%ED%99%94.png": {
     "image/png": "[encoded data removed]"
    }
   },
   "cell_type": "markdown",
   "id": "6ffced86",
   "metadata": {},
   "source": [
    "### 이번엔 함수를 어떻게 설정해줘야 할까?\n",
    "![%EA%B0%80%EC%A4%91%EC%B9%98%EC%99%80%20y%EC%A0%88%ED%8E%B8%20%EA%B5%AC%ED%95%98%EA%B8%B0%20%EC%8B%AC%ED%99%94.png](attachment:%EA%B0%80%EC%A4%91%EC%B9%98%EC%99%80%20y%EC%A0%88%ED%8E%B8%20%EA%B5%AC%ED%95%98%EA%B8%B0%20%EC%8B%AC%ED%99%94.png)"
   ]
  },
  {
   "cell_type": "markdown",
   "id": "32b904f2",
   "metadata": {},
   "source": [
    "### 선형 회귀\n",
    "- 이러한 방식을 __선형 방정식__ 이라고 한다.\n",
    "  \n",
    "   \n",
    "- 중요한 것은, 각각의 x에 개별 가중치를 곱해주는 것 말고는 다른 조작을 하지 않는다는 것이다.\n",
    "  \n",
    "  \n",
    "- 이렇게 선형 방정식을 활용해서 원하는 값을 예측하는 모델을 설계하고 학습시키는 방법을 __선형 회귀__ 라고 한다.\n",
    "  \n",
    "  \n",
    "- 선형 회귀는 선형 방정식을 통해 __회귀 문제를 푼다__ 는 의미가 있다.\n",
    "  \n",
    "   \n",
    "- 특히 __회귀__ 라는 단어는 __연속된 실수값을 예측하는 문제__ 를 뜻한다.\n",
    "  \n",
    "  - 대립되는 개념은 분류인데 다음 예가 있다.\n",
    "    - 사진을 입력받아 해당 사진이 강아지인지, 고양이인지 맞히는 문제는 __분류__\n",
    "    - 사용연수, 화면크기 등을 입력받아 실수값인 중고 가격을 맞히는 문제는 __회귀__\n",
    "    \n",
    "    \n",
    "- 분류 문제는 맞히고자 하는 값이 __카테고리__ 이고, \n",
    "- 회귀 문제는 맞히고자 하는 값이 __연속된 실수값__ 이다."
   ]
  },
  {
   "cell_type": "markdown",
   "id": "79b77423",
   "metadata": {},
   "source": [
    "---"
   ]
  },
  {
   "cell_type": "markdown",
   "id": "15248805",
   "metadata": {},
   "source": [
    "## (2) 다시 한 번 직접 설계해 보는 손실함수"
   ]
  },
  {
   "cell_type": "code",
   "execution_count": 10,
   "id": "bc828fcf",
   "metadata": {},
   "outputs": [],
   "source": [
    "X = tips[['total_bill', 'size', 'sex_Male', 'sex_Female', 'smoker_Yes', 'smoker_No',\n",
    "          'day_Thur', 'day_Fri', 'day_Sat', 'day_Sun', 'time_Lunch', 'time_Dinner']].values\n",
    "y = tips['tip'].values"
   ]
  },
  {
   "cell_type": "code",
   "execution_count": 12,
   "id": "e93229bf",
   "metadata": {},
   "outputs": [
    {
     "name": "stdout",
     "output_type": "stream",
     "text": [
      "(195, 12) (195,)\n",
      "(49, 12) (49,)\n"
     ]
    }
   ],
   "source": [
    "from sklearn.model_selection import train_test_split\n",
    "\n",
    "x_train, x_test, y_train, y_test = train_test_split(X,\n",
    "                                                    y,\n",
    "                                                    test_size=0.2,\n",
    "                                                    random_state=42)\n",
    "\n",
    "print(x_train.shape, y_train.shape)\n",
    "print(x_test.shape, y_test.shape)"
   ]
  },
  {
   "cell_type": "code",
   "execution_count": 15,
   "id": "b6f33964",
   "metadata": {},
   "outputs": [],
   "source": [
    "import numpy as np\n",
    "W = np.random.rand(12) # 0 ~ 1의 난수값을 12개 생성\n",
    "b = np.random.rand() # 0 ~ 1의 난수값을 1개 생성"
   ]
  },
  {
   "cell_type": "code",
   "execution_count": 16,
   "id": "dbe6422c",
   "metadata": {},
   "outputs": [
    {
     "data": {
      "text/plain": [
       "array([0.76715459, 0.15966476, 0.38685865, 0.88639364, 0.42490782,\n",
       "       0.43329576, 0.48482033, 0.03073148, 0.19716182, 0.10079899,\n",
       "       0.00448677, 0.94122923])"
      ]
     },
     "execution_count": 16,
     "metadata": {},
     "output_type": "execute_result"
    }
   ],
   "source": [
    "W"
   ]
  },
  {
   "cell_type": "code",
   "execution_count": 19,
   "id": "c0ca5ff5",
   "metadata": {},
   "outputs": [
    {
     "data": {
      "text/plain": [
       "0.7475130966463032"
      ]
     },
     "execution_count": 19,
     "metadata": {},
     "output_type": "execute_result"
    }
   ],
   "source": [
    "b"
   ]
  },
  {
   "cell_type": "code",
   "execution_count": 20,
   "id": "8e43ab18",
   "metadata": {},
   "outputs": [],
   "source": [
    "def model(X, W, b):\n",
    "    predictions = 0\n",
    "    for i in range(12):\n",
    "        predictions += X[:, i] * W[i]\n",
    "    predictions += b\n",
    "    return predictions"
   ]
  },
  {
   "cell_type": "code",
   "execution_count": 21,
   "id": "f9d59101",
   "metadata": {},
   "outputs": [],
   "source": [
    "def MSE(a,b):\n",
    "    mse = ((a-b)**2).mean() # 두 값의 차이의 제곱의 평균\n",
    "    return mse"
   ]
  },
  {
   "cell_type": "code",
   "execution_count": 22,
   "id": "4f3714f8",
   "metadata": {},
   "outputs": [],
   "source": [
    "def loss(X, W, b, y):\n",
    "    predictions = model(X, W, b)\n",
    "    L = MSE(predictions, y)\n",
    "    return L"
   ]
  },
  {
   "cell_type": "markdown",
   "id": "5b1dc1dd",
   "metadata": {},
   "source": [
    "---"
   ]
  },
  {
   "cell_type": "markdown",
   "id": "2034d55f",
   "metadata": {},
   "source": [
    "## (3) 앞으로는 절대 해 볼 일 없을, 직접 그래디언트 계산하기"
   ]
  },
  {
   "cell_type": "code",
   "execution_count": 25,
   "id": "e8207402",
   "metadata": {},
   "outputs": [],
   "source": [
    "def gradient(X, W, b, y):\n",
    "    # N은 가중치의 개수\n",
    "    N = len(W)\n",
    "    \n",
    "    # y_pred 준비\n",
    "    y_pred = model(X, W, b)\n",
    "    \n",
    "    # 공식에 맞게 gradient 계산\n",
    "    dW = 1/N * 2 * X.T.dot(y_pred -y)\n",
    "    \n",
    "    # b의 gradient 계산\n",
    "    db = 2 * (y_pred - y).mean()\n",
    "    return dW, db\n"
   ]
  },
  {
   "cell_type": "code",
   "execution_count": 26,
   "id": "2cb73a15",
   "metadata": {},
   "outputs": [
    {
     "name": "stdout",
     "output_type": "stream",
     "text": [
      "dW: [14429.59171446  1730.3087075    412.36129545   207.43604609\n",
      "   247.2016473    372.59569424   139.6342208     41.748777\n",
      "   231.32268026   207.09166348   148.38190663   471.41543491]\n",
      "db: 30.481836469054684\n"
     ]
    }
   ],
   "source": [
    "dW, db = gradient(X, W, b, y)\n",
    "print(\"dW:\", dW)\n",
    "print(\"db:\", db)"
   ]
  },
  {
   "cell_type": "markdown",
   "id": "ea79bec4",
   "metadata": {},
   "source": [
    "---"
   ]
  },
  {
   "cell_type": "markdown",
   "id": "98f58033",
   "metadata": {},
   "source": [
    "## (4) 모두 준비되었다면, 모델 학습은 간단하다구!"
   ]
  },
  {
   "cell_type": "code",
   "execution_count": 27,
   "id": "8525368a",
   "metadata": {},
   "outputs": [],
   "source": [
    "LEARNING_RATE = 0.0001"
   ]
  },
  {
   "cell_type": "code",
   "execution_count": 28,
   "id": "9d079858",
   "metadata": {},
   "outputs": [
    {
     "name": "stdout",
     "output_type": "stream",
     "text": [
      "Iteration 10 : Loss 1.7189\n",
      "Iteration 20 : Loss 1.6926\n",
      "Iteration 30 : Loss 1.6786\n",
      "Iteration 40 : Loss 1.6650\n",
      "Iteration 50 : Loss 1.6520\n",
      "Iteration 60 : Loss 1.6395\n",
      "Iteration 70 : Loss 1.6274\n",
      "Iteration 80 : Loss 1.6158\n",
      "Iteration 90 : Loss 1.6046\n",
      "Iteration 100 : Loss 1.5938\n",
      "Iteration 110 : Loss 1.5834\n",
      "Iteration 120 : Loss 1.5734\n",
      "Iteration 130 : Loss 1.5636\n",
      "Iteration 140 : Loss 1.5543\n",
      "Iteration 150 : Loss 1.5452\n",
      "Iteration 160 : Loss 1.5364\n",
      "Iteration 170 : Loss 1.5279\n",
      "Iteration 180 : Loss 1.5197\n",
      "Iteration 190 : Loss 1.5117\n",
      "Iteration 200 : Loss 1.5040\n",
      "Iteration 210 : Loss 1.4965\n",
      "Iteration 220 : Loss 1.4892\n",
      "Iteration 230 : Loss 1.4821\n",
      "Iteration 240 : Loss 1.4753\n",
      "Iteration 250 : Loss 1.4686\n",
      "Iteration 260 : Loss 1.4621\n",
      "Iteration 270 : Loss 1.4559\n",
      "Iteration 280 : Loss 1.4497\n",
      "Iteration 290 : Loss 1.4438\n",
      "Iteration 300 : Loss 1.4380\n",
      "Iteration 310 : Loss 1.4323\n",
      "Iteration 320 : Loss 1.4268\n",
      "Iteration 330 : Loss 1.4214\n",
      "Iteration 340 : Loss 1.4162\n",
      "Iteration 350 : Loss 1.4111\n",
      "Iteration 360 : Loss 1.4061\n",
      "Iteration 370 : Loss 1.4013\n",
      "Iteration 380 : Loss 1.3965\n",
      "Iteration 390 : Loss 1.3919\n",
      "Iteration 400 : Loss 1.3874\n",
      "Iteration 410 : Loss 1.3830\n",
      "Iteration 420 : Loss 1.3786\n",
      "Iteration 430 : Loss 1.3744\n",
      "Iteration 440 : Loss 1.3703\n",
      "Iteration 450 : Loss 1.3663\n",
      "Iteration 460 : Loss 1.3623\n",
      "Iteration 470 : Loss 1.3584\n",
      "Iteration 480 : Loss 1.3547\n",
      "Iteration 490 : Loss 1.3509\n",
      "Iteration 500 : Loss 1.3473\n",
      "Iteration 510 : Loss 1.3438\n",
      "Iteration 520 : Loss 1.3403\n",
      "Iteration 530 : Loss 1.3369\n",
      "Iteration 540 : Loss 1.3335\n",
      "Iteration 550 : Loss 1.3302\n",
      "Iteration 560 : Loss 1.3270\n",
      "Iteration 570 : Loss 1.3239\n",
      "Iteration 580 : Loss 1.3208\n",
      "Iteration 590 : Loss 1.3177\n",
      "Iteration 600 : Loss 1.3148\n",
      "Iteration 610 : Loss 1.3118\n",
      "Iteration 620 : Loss 1.3090\n",
      "Iteration 630 : Loss 1.3062\n",
      "Iteration 640 : Loss 1.3034\n",
      "Iteration 650 : Loss 1.3007\n",
      "Iteration 660 : Loss 1.2980\n",
      "Iteration 670 : Loss 1.2954\n",
      "Iteration 680 : Loss 1.2928\n",
      "Iteration 690 : Loss 1.2903\n",
      "Iteration 700 : Loss 1.2878\n",
      "Iteration 710 : Loss 1.2854\n",
      "Iteration 720 : Loss 1.2830\n",
      "Iteration 730 : Loss 1.2806\n",
      "Iteration 740 : Loss 1.2783\n",
      "Iteration 750 : Loss 1.2760\n",
      "Iteration 760 : Loss 1.2737\n",
      "Iteration 770 : Loss 1.2715\n",
      "Iteration 780 : Loss 1.2694\n",
      "Iteration 790 : Loss 1.2672\n",
      "Iteration 800 : Loss 1.2651\n",
      "Iteration 810 : Loss 1.2631\n",
      "Iteration 820 : Loss 1.2610\n",
      "Iteration 830 : Loss 1.2590\n",
      "Iteration 840 : Loss 1.2571\n",
      "Iteration 850 : Loss 1.2551\n",
      "Iteration 860 : Loss 1.2532\n",
      "Iteration 870 : Loss 1.2513\n",
      "Iteration 880 : Loss 1.2495\n",
      "Iteration 890 : Loss 1.2477\n",
      "Iteration 900 : Loss 1.2459\n",
      "Iteration 910 : Loss 1.2441\n",
      "Iteration 920 : Loss 1.2424\n",
      "Iteration 930 : Loss 1.2407\n",
      "Iteration 940 : Loss 1.2390\n",
      "Iteration 950 : Loss 1.2373\n",
      "Iteration 960 : Loss 1.2357\n",
      "Iteration 970 : Loss 1.2341\n",
      "Iteration 980 : Loss 1.2325\n",
      "Iteration 990 : Loss 1.2309\n",
      "Iteration 1000 : Loss 1.2294\n"
     ]
    }
   ],
   "source": [
    "losses = []\n",
    "\n",
    "for i in range(1, 1001):\n",
    "    dW, db = gradient(x_train, W, b, y_train)\n",
    "    W -= LEARNING_RATE * dW\n",
    "    b -= LEARNING_RATE * db\n",
    "    L = loss(x_train, W, b, y_train)\n",
    "    losses.append(L)\n",
    "    if i % 10 == 0:\n",
    "        print('Iteration %d : Loss %0.4f' % (i,L))"
   ]
  },
  {
   "cell_type": "code",
   "execution_count": 29,
   "id": "35c0e02a",
   "metadata": {},
   "outputs": [
    {
     "data": {
      "image/png": "[encoded data removed]",
      "text/plain": [
       "<Figure size 432x288 with 1 Axes>"
      ]
     },
     "metadata": {
      "needs_background": "light"
     },
     "output_type": "display_data"
    }
   ],
   "source": [
    "import matplotlib.pyplot as plt\n",
    "plt.plot(losses)\n",
    "plt.show()"
   ]
  },
  {
   "cell_type": "code",
   "execution_count": 30,
   "id": "a7eb4fc4",
   "metadata": {},
   "outputs": [
    {
     "data": {
      "text/plain": [
       "(array([ 0.08201824, -0.03272913,  0.30365168,  0.43308066,  0.12189343,\n",
       "         0.19979021,  0.3866641 , -0.00287945, -0.13686057,  0.03006859,\n",
       "        -0.06069618,  0.46989223]),\n",
       " 0.7144964843626382)"
      ]
     },
     "execution_count": 30,
     "metadata": {},
     "output_type": "execute_result"
    }
   ],
   "source": [
    "W, b"
   ]
  },
  {
   "cell_type": "code",
   "execution_count": 31,
   "id": "c3882934",
   "metadata": {},
   "outputs": [
    {
     "data": {
      "text/plain": [
       "0.6793129610319666"
      ]
     },
     "execution_count": 31,
     "metadata": {},
     "output_type": "execute_result"
    }
   ],
   "source": [
    "prediction = model(x_test, W, b)\n",
    "mse = loss(x_test, W, b, y_test)\n",
    "mse"
   ]
  },
  {
   "cell_type": "code",
   "execution_count": 32,
   "id": "8bfbe36e",
   "metadata": {},
   "outputs": [
    {
     "data": {
      "image/png": "[encoded data removed]",
      "text/plain": [
       "<Figure size 432x288 with 1 Axes>"
      ]
     },
     "metadata": {
      "needs_background": "light"
     },
     "output_type": "display_data"
    }
   ],
   "source": [
    "plt.scatter(x_test[:,0], y_test)\n",
    "plt.scatter(x_test[:, 0], prediction)\n",
    "plt.show()"
   ]
  },
  {
   "cell_type": "markdown",
   "id": "72b3cd90",
   "metadata": {},
   "source": [
    "---"
   ]
  },
  {
   "cell_type": "markdown",
   "id": "ffccc5a9",
   "metadata": {},
   "source": [
    "## (5) 지금까지 한 모든 과정을, 라이브러리로 깔끔하게"
   ]
  },
  {
   "cell_type": "code",
   "execution_count": 33,
   "id": "c44d5267",
   "metadata": {},
   "outputs": [],
   "source": [
    "tips = sns.load_dataset(\"tips\")\n",
    "tips = pd.get_dummies(tips, columns=['sex','smoker','day','time'])\n",
    "tips = tips[['total_bill', 'size', 'sex_Male', 'sex_Female', 'smoker_Yes', 'smoker_No',\n",
    "             'day_Thur', 'day_Fri', 'day_Sat', 'day_Sun', 'time_Lunch', 'time_Dinner', 'tip']]"
   ]
  },
  {
   "cell_type": "code",
   "execution_count": 34,
   "id": "cdc86bb7",
   "metadata": {},
   "outputs": [],
   "source": [
    "X = tips[['total_bill', 'size', 'sex_Male', 'sex_Female', 'smoker_Yes', 'smoker_No',\n",
    "          'day_Thur', 'day_Fri', 'day_Sat', 'day_Sun', 'time_Lunch', 'time_Dinner']].values\n",
    "y = tips['tip'].values"
   ]
  },
  {
   "cell_type": "code",
   "execution_count": 35,
   "id": "99af0fea",
   "metadata": {},
   "outputs": [],
   "source": [
    "x_train, x_test, y_train, y_test = train_test_split(X,\n",
    "                                                    y,\n",
    "                                                    test_size = 0.2,\n",
    "                                                    random_state = 42)"
   ]
  },
  {
   "cell_type": "code",
   "execution_count": 36,
   "id": "eaf5913f",
   "metadata": {},
   "outputs": [],
   "source": [
    "from sklearn.linear_model import LinearRegression\n",
    "\n",
    "model = LinearRegression()"
   ]
  },
  {
   "cell_type": "code",
   "execution_count": 37,
   "id": "4d4722f7",
   "metadata": {},
   "outputs": [
    {
     "data": {
      "text/plain": [
       "LinearRegression()"
      ]
     },
     "execution_count": 37,
     "metadata": {},
     "output_type": "execute_result"
    }
   ],
   "source": [
    "model.fit(x_train, y_train)"
   ]
  },
  {
   "cell_type": "code",
   "execution_count": 38,
   "id": "df60c9d8",
   "metadata": {},
   "outputs": [
    {
     "data": {
      "text/plain": [
       "array([2.91436632, 2.00292613, 3.96425583, 3.76380832, 2.14836306,\n",
       "       2.67423448, 3.63934628, 2.29147245, 2.57207155, 2.45851225,\n",
       "       2.90446763, 2.0573337 , 2.11817193, 2.35130838, 1.82976215,\n",
       "       3.10830675, 2.95140176, 3.21602976, 2.56640892, 5.73957295,\n",
       "       3.43490366, 3.22645102, 2.17139823, 1.94180002, 3.16394533,\n",
       "       2.24547894, 2.14497574, 3.21025435, 3.20097595, 6.66803147,\n",
       "       5.01111235, 1.57804024, 3.1909877 , 2.76652194, 2.98412862,\n",
       "       3.85695724, 2.17008741, 5.46673999, 2.35586827, 2.99190732,\n",
       "       2.03271177, 2.48465991, 3.44046814, 2.35532237, 1.92528104,\n",
       "       0.87348926, 1.81911521, 3.04083954, 1.85436902])"
      ]
     },
     "execution_count": 38,
     "metadata": {},
     "output_type": "execute_result"
    }
   ],
   "source": [
    "predictions = model.predict(x_test)\n",
    "predictions"
   ]
  },
  {
   "cell_type": "markdown",
   "id": "8c745387",
   "metadata": {},
   "source": [
    "#### 모델 성능 지표 mse를 사용할건데 그 지표는 sklearn.metrics의 mean_squared_error에 있다."
   ]
  },
  {
   "cell_type": "code",
   "execution_count": 40,
   "id": "800054aa",
   "metadata": {},
   "outputs": [
    {
     "data": {
      "text/plain": [
       "0.7033566017436103"
      ]
     },
     "execution_count": 40,
     "metadata": {},
     "output_type": "execute_result"
    }
   ],
   "source": [
    "from sklearn.metrics import mean_squared_error\n",
    "\n",
    "mse = mean_squared_error(y_test, predictions)\n",
    "mse"
   ]
  },
  {
   "cell_type": "code",
   "execution_count": 41,
   "id": "33100cfc",
   "metadata": {},
   "outputs": [
    {
     "data": {
      "image/png": "[encoded data removed]",
      "text/plain": [
       "<Figure size 432x288 with 1 Axes>"
      ]
     },
     "metadata": {
      "needs_background": "light"
     },
     "output_type": "display_data"
    }
   ],
   "source": [
    "plt.scatter(x_test[:,0], y_test, label=\"true\")\n",
    "plt.scatter(x_test[:,0], predictions, label=\"pred\")\n",
    "plt.legend()\n",
    "plt.show()"
   ]
  }
 ],
 "metadata": {
  "kernelspec": {
   "display_name": "Python 3 (ipykernel)",
   "language": "python",
   "name": "python3"
  },
  "language_info": {
   "codemirror_mode": {
    "name": "ipython",
    "version": 3
   },
   "file_extension": ".py",
   "mimetype": "text/x-python",
   "name": "python",
   "nbconvert_exporter": "python",
   "pygments_lexer": "ipython3",
   "version": "3.9.7"
  }
 },
 "nbformat": 4,
 "nbformat_minor": 5
}
