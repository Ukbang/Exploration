{
 "cells": [
  {
   "cell_type": "markdown",
   "id": "d41200b4",
   "metadata": {},
   "source": [
    "# 다양한 모델 평가 척도"
   ]
  },
  {
   "cell_type": "markdown",
   "id": "063caf8e",
   "metadata": {},
   "source": [
    "### 현재 학습 모델의 정확도 불완전 척도 예시"
   ]
  },
  {
   "cell_type": "code",
   "execution_count": 1,
   "id": "f7d6f528",
   "metadata": {},
   "outputs": [
    {
     "data": {
      "text/plain": [
       "dict_keys(['data', 'target', 'frame', 'feature_names', 'target_names', 'images', 'DESCR'])"
      ]
     },
     "execution_count": 1,
     "metadata": {},
     "output_type": "execute_result"
    }
   ],
   "source": [
    "from sklearn.datasets import load_digits\n",
    "\n",
    "digits = load_digits()\n",
    "digits.keys()"
   ]
  },
  {
   "cell_type": "code",
   "execution_count": 2,
   "id": "cc46f4d2",
   "metadata": {},
   "outputs": [
    {
     "data": {
      "text/plain": [
       "(1797, 64)"
      ]
     },
     "execution_count": 2,
     "metadata": {},
     "output_type": "execute_result"
    }
   ],
   "source": [
    "digits_data = digits.data\n",
    "digits_data.shape"
   ]
  },
  {
   "cell_type": "code",
   "execution_count": 7,
   "id": "190fdfcc",
   "metadata": {},
   "outputs": [
    {
     "data": {
      "text/plain": [
       "array([ 0.,  0.,  5., 13.,  9.,  1.,  0.,  0.,  0.,  0., 13., 15., 10.,\n",
       "       15.,  5.,  0.,  0.,  3., 15.,  2.,  0., 11.,  8.,  0.,  0.,  4.,\n",
       "       12.,  0.,  0.,  8.,  8.,  0.,  0.,  5.,  8.,  0.,  0.,  9.,  8.,\n",
       "        0.,  0.,  4., 11.,  0.,  1., 12.,  7.,  0.,  0.,  2., 14.,  5.,\n",
       "       10., 12.,  0.,  0.,  0.,  0.,  6., 13., 10.,  0.,  0.,  0.])"
      ]
     },
     "execution_count": 7,
     "metadata": {},
     "output_type": "execute_result"
    }
   ],
   "source": [
    "digits_data[0]\n",
    "# 64개의 데이터로 이루어짐.\n",
    "# 이미지를 표현 8x8크기의 이미지 한장을 뜻함"
   ]
  },
  {
   "cell_type": "code",
   "execution_count": 10,
   "id": "4ab4bc20",
   "metadata": {},
   "outputs": [
    {
     "data": {
      "text/plain": [
       "<function matplotlib.pyplot.show(close=None, block=None)>"
      ]
     },
     "execution_count": 10,
     "metadata": {},
     "output_type": "execute_result"
    },
    {
     "data": {
      "image/png": "[encoded data removed]",
      "text/plain": [
       "<Figure size 432x288 with 1 Axes>"
      ]
     },
     "metadata": {
      "needs_background": "light"
     },
     "output_type": "display_data"
    }
   ],
   "source": [
    "import matplotlib.pyplot as plt\n",
    "%matplotlib inline \n",
    "#이미지를 현 화면에 보여주도록 하는 코드\n",
    "\n",
    "plt.imshow(digits.data[0].reshape(8,8), cmap='gray')\n",
    "plt.axis('off')\n",
    "plt.show"
   ]
  },
  {
   "cell_type": "code",
   "execution_count": 14,
   "id": "15331292",
   "metadata": {},
   "outputs": [
    {
     "data": {
      "image/png": "[encoded data removed]",
      "text/plain": [
       "<Figure size 432x288 with 10 Axes>"
      ]
     },
     "metadata": {
      "needs_background": "light"
     },
     "output_type": "display_data"
    }
   ],
   "source": [
    "for i in range(10):\n",
    "    plt.subplot(2, 5, i+1)\n",
    "    plt.imshow(digits.data[i].reshape(8,8), cmap='gray')\n",
    "    plt.axis('off')\n",
    "plt.show()"
   ]
  },
  {
   "cell_type": "code",
   "execution_count": 16,
   "id": "c6020d40",
   "metadata": {},
   "outputs": [
    {
     "name": "stdout",
     "output_type": "stream",
     "text": [
      "(1797,)\n"
     ]
    },
    {
     "data": {
      "text/plain": [
       "array([0, 1, 2, 3, 4, 5, 6, 7, 8, 9, 0, 1, 2, 3, 4, 5, 6, 7, 8, 9])"
      ]
     },
     "execution_count": 16,
     "metadata": {},
     "output_type": "execute_result"
    }
   ],
   "source": [
    "digits_label = digits.target\n",
    "print(digits_label.shape)\n",
    "digits_label[:20]"
   ]
  },
  {
   "cell_type": "markdown",
   "id": "639e10a7",
   "metadata": {},
   "source": [
    "#### 여기서 1797개의 데이터로 구성되고 0~9까지의 숫자로 이미지가 구성되어있다.\n",
    "#### 여기서 정확도의 함정을 확인하기 위해 새로운 타겟값을 지정하여 3만 출력하고 나머지는 0으로 출력하도록 한다"
   ]
  },
  {
   "cell_type": "code",
   "execution_count": 17,
   "id": "93abf681",
   "metadata": {},
   "outputs": [
    {
     "data": {
      "text/plain": [
       "[0, 0, 0, 3, 0, 0, 0, 0, 0, 0, 0, 0, 0, 3, 0, 0, 0, 0, 0, 0]"
      ]
     },
     "execution_count": 17,
     "metadata": {},
     "output_type": "execute_result"
    }
   ],
   "source": [
    "new_label = [3 if i == 3 else 0 for i in digits_label]\n",
    "new_label[:20]"
   ]
  },
  {
   "cell_type": "code",
   "execution_count": 21,
   "id": "5b91dc46",
   "metadata": {},
   "outputs": [],
   "source": [
    "from sklearn.tree import DecisionTreeClassifier\n",
    "from sklearn.model_selection import train_test_split\n",
    "from sklearn.metrics import accuracy_score"
   ]
  },
  {
   "cell_type": "code",
   "execution_count": 34,
   "id": "c04ff627",
   "metadata": {},
   "outputs": [
    {
     "data": {
      "text/plain": [
       "0.9388888888888889"
      ]
     },
     "execution_count": 34,
     "metadata": {},
     "output_type": "execute_result"
    }
   ],
   "source": [
    "digits_data = digits.data\n",
    "digits_label = digits.target\n",
    "\n",
    "x_train, x_test, y_train, y_test = train_test_split(digits_data,\n",
    "                                                    new_label,\n",
    "                                                    test_size = 0.2,\n",
    "                                                    random_state=15)\n",
    "\n",
    "digits_result = DecisionTreeClassifier(random_state=15)\n",
    "digits_result.fit(x_train, y_train)\n",
    "y_pred = digits_result.predict(x_test)\n",
    "\n",
    "accuracy = accuracy_score(y_test, y_pred)\n",
    "accuracy"
   ]
  },
  {
   "cell_type": "markdown",
   "id": "af33eef4",
   "metadata": {},
   "source": [
    "#### 여기서 정확도는 93.888% 가 나왔다\n",
    "#### 여기서 문제가 발생하는데 정답은 3 오답은 0으로 설정해놨기 때문이다.\n",
    "#### 이 문제는 학습을 전혀 하지 않고 정답을 0으로 설정해도 정확도가 90%가 넘게 나오게 된다."
   ]
  },
  {
   "cell_type": "code",
   "execution_count": 35,
   "id": "ec1289a1",
   "metadata": {},
   "outputs": [
    {
     "data": {
      "text/plain": [
       "0.925"
      ]
     },
     "execution_count": 35,
     "metadata": {},
     "output_type": "execute_result"
    }
   ],
   "source": [
    "fake_pred = [0] * len(y_pred)\n",
    "\n",
    "accuracy = accuracy_score(y_test, fake_pred)\n",
    "accuracy"
   ]
  },
  {
   "cell_type": "markdown",
   "id": "4271ffd1",
   "metadata": {},
   "source": [
    "## 정확도 다양하게 평가해보기"
   ]
  },
  {
   "cell_type": "markdown",
   "id": "95e24976",
   "metadata": {},
   "source": [
    "## 오차 행렬(confusion matrix)\n",
    "\n",
    "### 오차 행렬의 예측 결과 4개지\n",
    "#### 1. TP : 양성일때 진짜 양성\n",
    "#### 2. FP : 음성일때 가짜 양성\n",
    "#### 3. TN : 음성일때 진짜 음성\n",
    "#### 4. FN : 양성일때 가짜 음성\n",
    "### 대표적 성능지표 3가지\n",
    "#### 1. Sensitivity(재현율) = Recall : 클수록 좋음. 양성인데 음성으로 판단하는 경우가 적어야 한다.\n",
    "#### 2. F1 Score : Racall 과 precision의 조화 평균\n",
    "#### 3. Precision(정밀도) : 클수록 좋음. 음성인데 양성으로 판단하는 경우가 적어야 한다."
   ]
  },
  {
   "cell_type": "markdown",
   "id": "6d8d7276",
   "metadata": {},
   "source": [
    "## sklearn으로 위 지표들 확인하는 법"
   ]
  },
  {
   "cell_type": "code",
   "execution_count": 38,
   "id": "f6f17462",
   "metadata": {},
   "outputs": [
    {
     "data": {
      "text/plain": [
       "array([[320,  13],\n",
       "       [  9,  18]])"
      ]
     },
     "execution_count": 38,
     "metadata": {},
     "output_type": "execute_result"
    }
   ],
   "source": [
    "from sklearn.metrics import confusion_matrix, classification_report\n",
    "\n",
    "confusion_matrix(y_test, y_pred)"
   ]
  },
  {
   "cell_type": "markdown",
   "id": "f3aa7494",
   "metadata": {},
   "source": [
    "#### 왼쪽 위부터 순서대로 TP, FN, FP, TN의 개수이다.\n",
    "#### 현재 데이터에서는 0이 positive 3이 negative의 역할을 한다."
   ]
  },
  {
   "cell_type": "code",
   "execution_count": 37,
   "id": "40d3d58e",
   "metadata": {},
   "outputs": [
    {
     "data": {
      "text/plain": [
       "array([[333,   0],\n",
       "       [ 27,   0]])"
      ]
     },
     "execution_count": 37,
     "metadata": {},
     "output_type": "execute_result"
    }
   ],
   "source": [
    "confusion_matrix(y_test, fake_pred)"
   ]
  },
  {
   "cell_type": "code",
   "execution_count": 39,
   "id": "bf158fa0",
   "metadata": {},
   "outputs": [
    {
     "name": "stdout",
     "output_type": "stream",
     "text": [
      "              precision    recall  f1-score   support\n",
      "\n",
      "           0       0.97      0.96      0.97       333\n",
      "           3       0.58      0.67      0.62        27\n",
      "\n",
      "    accuracy                           0.94       360\n",
      "   macro avg       0.78      0.81      0.79       360\n",
      "weighted avg       0.94      0.94      0.94       360\n",
      "\n"
     ]
    }
   ],
   "source": [
    "print(classification_report(y_test, y_pred))"
   ]
  },
  {
   "cell_type": "code",
   "execution_count": 41,
   "id": "bcfe8b1e",
   "metadata": {},
   "outputs": [
    {
     "name": "stdout",
     "output_type": "stream",
     "text": [
      "              precision    recall  f1-score   support\n",
      "\n",
      "           0       0.93      1.00      0.96       333\n",
      "           3       0.00      0.00      0.00        27\n",
      "\n",
      "    accuracy                           0.93       360\n",
      "   macro avg       0.46      0.50      0.48       360\n",
      "weighted avg       0.86      0.93      0.89       360\n",
      "\n"
     ]
    }
   ],
   "source": [
    "print(classification_report(y_test, fake_pred, zero_division=0))"
   ]
  },
  {
   "cell_type": "markdown",
   "id": "c05271ce",
   "metadata": {},
   "source": [
    "#### 보다싶이 333개의 0은 맞췄으나 27개의 3은 전혀 맞추지 못했다. 이는 큰 문제로 정확도만으로 판단하면 안된다"
   ]
  },
  {
   "cell_type": "code",
   "execution_count": 42,
   "id": "b8fdc272",
   "metadata": {},
   "outputs": [
    {
     "data": {
      "text/plain": [
       "(0.9388888888888889, 0.925)"
      ]
     },
     "execution_count": 42,
     "metadata": {},
     "output_type": "execute_result"
    }
   ],
   "source": [
    "accuracy_score(y_test, y_pred), accuracy_score(y_test, fake_pred)"
   ]
  },
  {
   "cell_type": "markdown",
   "id": "4600f367",
   "metadata": {},
   "source": [
    "### 이렇게 정확도는 높으나 실제로는 불균형이 심하다는 걸 인지해야 한다.\n",
    "### 특히, label이 불균형하게 분포되어있는 데이터를 다룰때는 더 조심"
   ]
  }
 ],
 "metadata": {
  "kernelspec": {
   "display_name": "Python 3 (ipykernel)",
   "language": "python",
   "name": "python3"
  },
  "language_info": {
   "codemirror_mode": {
    "name": "ipython",
    "version": 3
   },
   "file_extension": ".py",
   "mimetype": "text/x-python",
   "name": "python",
   "nbconvert_exporter": "python",
   "pygments_lexer": "ipython3",
   "version": "3.9.7"
  }
 },
 "nbformat": 4,
 "nbformat_minor": 5
}
