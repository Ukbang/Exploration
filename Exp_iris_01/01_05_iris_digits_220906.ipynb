{
 "cells": [
  {
   "cell_type": "markdown",
   "id": "f5cf1d9d",
   "metadata": {},
   "source": [
    "# Exploration project \n",
    "## (1) load_digits: 손글씨를 분류해 봅시다"
   ]
  },
  {
   "cell_type": "code",
   "execution_count": 2,
   "id": "1ad6d782",
   "metadata": {},
   "outputs": [
    {
     "name": "stdout",
     "output_type": "stream",
     "text": [
      "1.0\n"
     ]
    }
   ],
   "source": [
    "import sklearn\n",
    "\n",
    "print(sklearn.__version__)"
   ]
  },
  {
   "cell_type": "code",
   "execution_count": 5,
   "id": "cd1440a0",
   "metadata": {},
   "outputs": [],
   "source": [
    "from sklearn.datasets import load_digits\n",
    "from sklearn.metrics import classification_report, accuracy_score\n",
    "from sklearn.model_selection import train_test_split\n",
    "from sklearn.tree import DecisionTreeClassifier"
   ]
  },
  {
   "cell_type": "code",
   "execution_count": 6,
   "id": "240c9aab",
   "metadata": {},
   "outputs": [],
   "source": [
    "# 데이터 할당\n",
    "digits = load_digits()"
   ]
  },
  {
   "cell_type": "code",
   "execution_count": 9,
   "id": "ab030428",
   "metadata": {
    "collapsed": true
   },
   "outputs": [
    {
     "name": "stdout",
     "output_type": "stream",
     "text": [
      ".. _digits_dataset:\n",
      "\n",
      "Optical recognition of handwritten digits dataset\n",
      "--------------------------------------------------\n",
      "\n",
      "**Data Set Characteristics:**\n",
      "\n",
      "    :Number of Instances: 1797\n",
      "    :Number of Attributes: 64\n",
      "    :Attribute Information: 8x8 image of integer pixels in the range 0..16.\n",
      "    :Missing Attribute Values: None\n",
      "    :Creator: E. Alpaydin (alpaydin '@' boun.edu.tr)\n",
      "    :Date: July; 1998\n",
      "\n",
      "This is a copy of the test set of the UCI ML hand-written digits datasets\n",
      "https://archive.ics.uci.edu/ml/datasets/Optical+Recognition+of+Handwritten+Digits\n",
      "\n",
      "The data set contains images of hand-written digits: 10 classes where\n",
      "each class refers to a digit.\n",
      "\n",
      "Preprocessing programs made available by NIST were used to extract\n",
      "normalized bitmaps of handwritten digits from a preprinted form. From a\n",
      "total of 43 people, 30 contributed to the training set and different 13\n",
      "to the test set. 32x32 bitmaps are divided into nonoverlapping blocks of\n",
      "4x4 and the number of on pixels are counted in each block. This generates\n",
      "an input matrix of 8x8 where each element is an integer in the range\n",
      "0..16. This reduces dimensionality and gives invariance to small\n",
      "distortions.\n",
      "\n",
      "For info on NIST preprocessing routines, see M. D. Garris, J. L. Blue, G.\n",
      "T. Candela, D. L. Dimmick, J. Geist, P. J. Grother, S. A. Janet, and C.\n",
      "L. Wilson, NIST Form-Based Handprint Recognition System, NISTIR 5469,\n",
      "1994.\n",
      "\n",
      ".. topic:: References\n",
      "\n",
      "  - C. Kaynak (1995) Methods of Combining Multiple Classifiers and Their\n",
      "    Applications to Handwritten Digit Recognition, MSc Thesis, Institute of\n",
      "    Graduate Studies in Science and Engineering, Bogazici University.\n",
      "  - E. Alpaydin, C. Kaynak (1998) Cascading Classifiers, Kybernetika.\n",
      "  - Ken Tang and Ponnuthurai N. Suganthan and Xi Yao and A. Kai Qin.\n",
      "    Linear dimensionalityreduction using relevance weighted LDA. School of\n",
      "    Electrical and Electronic Engineering Nanyang Technological University.\n",
      "    2005.\n",
      "  - Claudio Gentile. A New Approximate Maximal Margin Classification\n",
      "    Algorithm. NIPS. 2000.\n",
      "\n"
     ]
    }
   ],
   "source": [
    "len(digits.data)\n",
    "# 데이터 갯수는 1797개\n",
    "print(digits.DESCR)"
   ]
  },
  {
   "cell_type": "code",
   "execution_count": 11,
   "id": "49257c3c",
   "metadata": {},
   "outputs": [
    {
     "data": {
      "text/plain": [
       "dict_keys(['data', 'target', 'frame', 'feature_names', 'target_names', 'images', 'DESCR'])"
      ]
     },
     "execution_count": 11,
     "metadata": {},
     "output_type": "execute_result"
    }
   ],
   "source": [
    "digits.keys()"
   ]
  },
  {
   "cell_type": "markdown",
   "id": "2a1193b9",
   "metadata": {},
   "source": [
    "### Feature Data 지정\n",
    "### Label Data 지정"
   ]
  },
  {
   "cell_type": "code",
   "execution_count": 53,
   "id": "ea12c101",
   "metadata": {},
   "outputs": [],
   "source": [
    "digits_data = digits.data\n",
    "digits_feature = digits.feature_names\n",
    "digits_label = digits.target"
   ]
  },
  {
   "cell_type": "markdown",
   "id": "9f6c595d",
   "metadata": {},
   "source": [
    "### Target Names 출력"
   ]
  },
  {
   "cell_type": "code",
   "execution_count": 56,
   "id": "0b1ca022",
   "metadata": {},
   "outputs": [
    {
     "name": "stdout",
     "output_type": "stream",
     "text": [
      "[0 1 2 3 4 5 6 7 8 9]\n"
     ]
    }
   ],
   "source": [
    "print(digits.target_names)"
   ]
  },
  {
   "cell_type": "code",
   "execution_count": 24,
   "id": "a2bd613d",
   "metadata": {},
   "outputs": [],
   "source": [
    "import pandas as pd\n",
    "import matplotlib.pyplot as plt\n",
    "import seaborn as sns"
   ]
  },
  {
   "cell_type": "code",
   "execution_count": 37,
   "id": "2d110dc8",
   "metadata": {},
   "outputs": [
    {
     "data": {
      "text/plain": [
       "data             [[0.0, 0.0, 5.0, 13.0, 9.0, 1.0, 0.0, 0.0, 0.0...\n",
       "target           [0, 1, 2, 3, 4, 5, 6, 7, 8, 9, 0, 1, 2, 3, 4, ...\n",
       "frame                                                         None\n",
       "feature_names    [pixel_0_0, pixel_0_1, pixel_0_2, pixel_0_3, p...\n",
       "target_names                        [0, 1, 2, 3, 4, 5, 6, 7, 8, 9]\n",
       "images           [[[0.0, 0.0, 5.0, 13.0, 9.0, 1.0, 0.0, 0.0], [...\n",
       "DESCR            .. _digits_dataset:\\n\\nOptical recognition of ...\n",
       "dtype: object"
      ]
     },
     "execution_count": 37,
     "metadata": {},
     "output_type": "execute_result"
    }
   ],
   "source": [
    "digits_S = pd.Series(digits)\n",
    "digits_S"
   ]
  },
  {
   "cell_type": "code",
   "execution_count": 38,
   "id": "23323a75",
   "metadata": {},
   "outputs": [
    {
     "data": {
      "text/html": [
       "<div>\n",
       "<style scoped>\n",
       "    .dataframe tbody tr th:only-of-type {\n",
       "        vertical-align: middle;\n",
       "    }\n",
       "\n",
       "    .dataframe tbody tr th {\n",
       "        vertical-align: top;\n",
       "    }\n",
       "\n",
       "    .dataframe thead th {\n",
       "        text-align: right;\n",
       "    }\n",
       "</style>\n",
       "<table border=\"1\" class=\"dataframe\">\n",
       "  <thead>\n",
       "    <tr style=\"text-align: right;\">\n",
       "      <th></th>\n",
       "      <th>0</th>\n",
       "    </tr>\n",
       "  </thead>\n",
       "  <tbody>\n",
       "    <tr>\n",
       "      <th>data</th>\n",
       "      <td>[[0.0, 0.0, 5.0, 13.0, 9.0, 1.0, 0.0, 0.0, 0.0...</td>\n",
       "    </tr>\n",
       "    <tr>\n",
       "      <th>target</th>\n",
       "      <td>[0, 1, 2, 3, 4, 5, 6, 7, 8, 9, 0, 1, 2, 3, 4, ...</td>\n",
       "    </tr>\n",
       "    <tr>\n",
       "      <th>frame</th>\n",
       "      <td>None</td>\n",
       "    </tr>\n",
       "    <tr>\n",
       "      <th>feature_names</th>\n",
       "      <td>[pixel_0_0, pixel_0_1, pixel_0_2, pixel_0_3, p...</td>\n",
       "    </tr>\n",
       "    <tr>\n",
       "      <th>target_names</th>\n",
       "      <td>[0, 1, 2, 3, 4, 5, 6, 7, 8, 9]</td>\n",
       "    </tr>\n",
       "    <tr>\n",
       "      <th>images</th>\n",
       "      <td>[[[0.0, 0.0, 5.0, 13.0, 9.0, 1.0, 0.0, 0.0], [...</td>\n",
       "    </tr>\n",
       "    <tr>\n",
       "      <th>DESCR</th>\n",
       "      <td>.. _digits_dataset:\\n\\nOptical recognition of ...</td>\n",
       "    </tr>\n",
       "  </tbody>\n",
       "</table>\n",
       "</div>"
      ],
      "text/plain": [
       "                                                               0\n",
       "data           [[0.0, 0.0, 5.0, 13.0, 9.0, 1.0, 0.0, 0.0, 0.0...\n",
       "target         [0, 1, 2, 3, 4, 5, 6, 7, 8, 9, 0, 1, 2, 3, 4, ...\n",
       "frame                                                       None\n",
       "feature_names  [pixel_0_0, pixel_0_1, pixel_0_2, pixel_0_3, p...\n",
       "target_names                      [0, 1, 2, 3, 4, 5, 6, 7, 8, 9]\n",
       "images         [[[0.0, 0.0, 5.0, 13.0, 9.0, 1.0, 0.0, 0.0], [...\n",
       "DESCR          .. _digits_dataset:\\n\\nOptical recognition of ..."
      ]
     },
     "execution_count": 38,
     "metadata": {},
     "output_type": "execute_result"
    }
   ],
   "source": [
    "digits_df = pd.DataFrame(digits_S)\n",
    "digits_df"
   ]
  },
  {
   "cell_type": "markdown",
   "id": "a87df8f5",
   "metadata": {},
   "source": [
    "### 데이터 Describe 해보기"
   ]
  },
  {
   "cell_type": "code",
   "execution_count": 39,
   "id": "0d7040a4",
   "metadata": {
    "collapsed": true
   },
   "outputs": [
    {
     "name": "stderr",
     "output_type": "stream",
     "text": [
      "/opt/conda/lib/python3.9/site-packages/pandas/core/algorithms.py:893: FutureWarning: elementwise comparison failed; returning scalar instead, but in the future will perform elementwise comparison\n",
      "  keys, counts = htable.value_count(values, dropna)\n"
     ]
    },
    {
     "data": {
      "text/html": [
       "<div>\n",
       "<style scoped>\n",
       "    .dataframe tbody tr th:only-of-type {\n",
       "        vertical-align: middle;\n",
       "    }\n",
       "\n",
       "    .dataframe tbody tr th {\n",
       "        vertical-align: top;\n",
       "    }\n",
       "\n",
       "    .dataframe thead th {\n",
       "        text-align: right;\n",
       "    }\n",
       "</style>\n",
       "<table border=\"1\" class=\"dataframe\">\n",
       "  <thead>\n",
       "    <tr style=\"text-align: right;\">\n",
       "      <th></th>\n",
       "      <th>0</th>\n",
       "    </tr>\n",
       "  </thead>\n",
       "  <tbody>\n",
       "    <tr>\n",
       "      <th>count</th>\n",
       "      <td>6</td>\n",
       "    </tr>\n",
       "    <tr>\n",
       "      <th>unique</th>\n",
       "      <td>6</td>\n",
       "    </tr>\n",
       "    <tr>\n",
       "      <th>top</th>\n",
       "      <td>[[0.0, 0.0, 5.0, 13.0, 9.0, 1.0, 0.0, 0.0, 0.0...</td>\n",
       "    </tr>\n",
       "    <tr>\n",
       "      <th>freq</th>\n",
       "      <td>1</td>\n",
       "    </tr>\n",
       "  </tbody>\n",
       "</table>\n",
       "</div>"
      ],
      "text/plain": [
       "                                                        0\n",
       "count                                                   6\n",
       "unique                                                  6\n",
       "top     [[0.0, 0.0, 5.0, 13.0, 9.0, 1.0, 0.0, 0.0, 0.0...\n",
       "freq                                                    1"
      ]
     },
     "execution_count": 39,
     "metadata": {},
     "output_type": "execute_result"
    }
   ],
   "source": [
    "digits_df.describe()"
   ]
  },
  {
   "cell_type": "code",
   "execution_count": 47,
   "id": "ea9edd86",
   "metadata": {},
   "outputs": [
    {
     "data": {
      "text/plain": [
       "(1797, 64)"
      ]
     },
     "execution_count": 47,
     "metadata": {},
     "output_type": "execute_result"
    }
   ],
   "source": [
    "digits.data.shape"
   ]
  },
  {
   "cell_type": "code",
   "execution_count": 80,
   "id": "32a43519",
   "metadata": {},
   "outputs": [],
   "source": [
    "# 학습용 데이터와 테스트용 데이터 분류\n",
    "\n",
    "x_train, x_test, y_train, y_test = train_test_split(digits_data,\n",
    "                                                    digits_label,\n",
    "                                                    test_size=0.2,\n",
    "                                                    random_state=20)"
   ]
  },
  {
   "cell_type": "markdown",
   "id": "76dd8468",
   "metadata": {},
   "source": [
    "## Decision Tree"
   ]
  },
  {
   "cell_type": "code",
   "execution_count": 125,
   "id": "824e9f76",
   "metadata": {},
   "outputs": [
    {
     "data": {
      "text/plain": [
       "0.8638888888888889"
      ]
     },
     "execution_count": 125,
     "metadata": {},
     "output_type": "execute_result"
    }
   ],
   "source": [
    "decision_tree_data = DecisionTreeClassifier(random_state=32)\n",
    "decision_tree_data.fit(x_train, y_train)\n",
    "d_pred_tree = decision_tree_data.predict(x_test)\n",
    "\n",
    "accuracy_t = accuracy_score(y_test, d_pred_tree)\n",
    "accuracy_t"
   ]
  },
  {
   "cell_type": "code",
   "execution_count": 120,
   "id": "61e4aad7",
   "metadata": {},
   "outputs": [
    {
     "name": "stdout",
     "output_type": "stream",
     "text": [
      "              precision    recall  f1-score   support\n",
      "\n",
      "           0       0.95      0.97      0.96        37\n",
      "           1       0.84      0.87      0.86        31\n",
      "           2       0.92      0.86      0.89        28\n",
      "           3       0.87      0.87      0.87        38\n",
      "           4       0.81      0.85      0.83        41\n",
      "           5       0.87      0.82      0.84        33\n",
      "           6       0.95      0.87      0.91        45\n",
      "           7       0.90      0.88      0.89        40\n",
      "           8       0.81      0.83      0.82        35\n",
      "           9       0.72      0.81      0.76        32\n",
      "\n",
      "    accuracy                           0.86       360\n",
      "   macro avg       0.86      0.86      0.86       360\n",
      "weighted avg       0.87      0.86      0.86       360\n",
      "\n"
     ]
    }
   ],
   "source": [
    "print(classification_report(y_test, d_pred_tree))"
   ]
  },
  {
   "cell_type": "markdown",
   "id": "d5c3a8bd",
   "metadata": {},
   "source": [
    "## Random Forest"
   ]
  },
  {
   "cell_type": "code",
   "execution_count": 64,
   "id": "da78afb5",
   "metadata": {},
   "outputs": [],
   "source": [
    "# RandomForest import\n",
    "from sklearn.ensemble import RandomForestClassifier"
   ]
  },
  {
   "cell_type": "code",
   "execution_count": 126,
   "id": "26390311",
   "metadata": {},
   "outputs": [
    {
     "data": {
      "text/plain": [
       "0.9805555555555555"
      ]
     },
     "execution_count": 126,
     "metadata": {},
     "output_type": "execute_result"
    }
   ],
   "source": [
    "Randomforest_data = RandomForestClassifier(random_state=32)\n",
    "Randomforest_data.fit(x_train, y_train)\n",
    "d_pred_ran = Randomforest_data.predict(x_test)\n",
    "\n",
    "accuracy_r = accuracy_score(y_test, d_pred_ran)\n",
    "accuracy_r"
   ]
  },
  {
   "cell_type": "code",
   "execution_count": 122,
   "id": "df8bd26e",
   "metadata": {},
   "outputs": [
    {
     "name": "stdout",
     "output_type": "stream",
     "text": [
      "              precision    recall  f1-score   support\n",
      "\n",
      "           0       1.00      1.00      1.00        37\n",
      "           1       0.97      1.00      0.98        31\n",
      "           2       0.97      1.00      0.98        28\n",
      "           3       1.00      1.00      1.00        38\n",
      "           4       1.00      0.98      0.99        41\n",
      "           5       0.97      0.97      0.97        33\n",
      "           6       1.00      1.00      1.00        45\n",
      "           7       0.98      1.00      0.99        40\n",
      "           8       0.97      0.91      0.94        35\n",
      "           9       0.94      0.94      0.94        32\n",
      "\n",
      "    accuracy                           0.98       360\n",
      "   macro avg       0.98      0.98      0.98       360\n",
      "weighted avg       0.98      0.98      0.98       360\n",
      "\n"
     ]
    }
   ],
   "source": [
    "print(classification_report(y_test,d_pred_ran))"
   ]
  },
  {
   "cell_type": "markdown",
   "id": "8d6dc90e",
   "metadata": {},
   "source": [
    "## SVM (Support Vector Machine)\n",
    "### SVM이란 : 결정 경계(Decision Boundary), 즉 분류를 위한 기준 선을 정의하는 모델이다. \n",
    "#### 중요 요소로는 Margin, Decision boundary, Support vector가 있다.\n",
    "#### hard margin 일수록 overfitting이 될 수 있고 soft margin 일수록 underfitting 이 될 수 있다."
   ]
  },
  {
   "cell_type": "code",
   "execution_count": 93,
   "id": "f70496f0",
   "metadata": {},
   "outputs": [],
   "source": [
    "# svm import\n",
    "from sklearn import svm"
   ]
  },
  {
   "cell_type": "code",
   "execution_count": 124,
   "id": "6a600d3d",
   "metadata": {},
   "outputs": [],
   "source": [
    "svm_data = svm.SVC()"
   ]
  },
  {
   "cell_type": "markdown",
   "id": "18b81bc4",
   "metadata": {},
   "source": [
    "### SVC함수에서 지정가능한 대표적인 인자 목록\n",
    "\n",
    "#### kernel : 커널 함수 종류를 지정합니다. 'linear', 'poly', 'rbf', 'sigmoid', 'precomputed' 중에서 지정 가능하며, 기본 값은 'rbf'로 설정되어 있습니다.\n",
    "\n",
    "#### C : regularization의 정도를 지정합니다. 클수록 L2 panelty가 증가합니다. 기본 값은 1.0으로 설정되어있습니다.\n",
    "\n",
    "#### degree : kernel이 'poly'일 때만 유효합니다. 커널 함수를 몇차 함수로 지정할지를 결정합니다.\n",
    "\n",
    "#### gamma : 'scale'과 'auto' 중에서 지정 가능합니다.  커널 함수가 'rbf', 'poly', 'sigmoid' 인 경우에 유효하며, 커널 계수를 지정하는 하이퍼파라미터입니다.\n",
    "\n",
    "#### random_state : 다른 머신러닝 모델과 마찬가지로 seed를 지정하여 실행시마다 결과를 고정하는 역할을 수행합니다."
   ]
  },
  {
   "cell_type": "code",
   "execution_count": 133,
   "id": "29b43d11",
   "metadata": {},
   "outputs": [
    {
     "data": {
      "text/plain": [
       "0.9833333333333333"
      ]
     },
     "execution_count": 133,
     "metadata": {},
     "output_type": "execute_result"
    }
   ],
   "source": [
    "svm_data.fit(x_train, y_train)\n",
    "d_pred_s = svm_data.predict(x_test)\n",
    "\n",
    "accuracy_s = accuracy_score(y_test, d_pred_s)\n",
    "accuracy_s"
   ]
  },
  {
   "cell_type": "code",
   "execution_count": 134,
   "id": "40511ae9",
   "metadata": {},
   "outputs": [
    {
     "name": "stdout",
     "output_type": "stream",
     "text": [
      "              precision    recall  f1-score   support\n",
      "\n",
      "           0       1.00      1.00      1.00        37\n",
      "           1       0.97      1.00      0.98        31\n",
      "           2       1.00      1.00      1.00        28\n",
      "           3       1.00      1.00      1.00        38\n",
      "           4       1.00      0.98      0.99        41\n",
      "           5       0.97      0.97      0.97        33\n",
      "           6       1.00      0.98      0.99        45\n",
      "           7       1.00      1.00      1.00        40\n",
      "           8       0.94      0.97      0.96        35\n",
      "           9       0.94      0.94      0.94        32\n",
      "\n",
      "    accuracy                           0.98       360\n",
      "   macro avg       0.98      0.98      0.98       360\n",
      "weighted avg       0.98      0.98      0.98       360\n",
      "\n"
     ]
    }
   ],
   "source": [
    "print(classification_report(y_test, d_pred_s))"
   ]
  },
  {
   "cell_type": "markdown",
   "id": "fa586eaf",
   "metadata": {},
   "source": [
    "# SGD Classifier\n",
    "## SGD란?\n",
    "### 배치 크기가 1인 경사 하강법 알고리즘. 즉, 확률적 경사하강법은 데이터 세트에서 무작위로 균일하게 선택한 하나의 데이터 포인트를 이용하여 각 단계의 예측경사를 계산한다."
   ]
  },
  {
   "cell_type": "code",
   "execution_count": 102,
   "id": "02aeac0b",
   "metadata": {},
   "outputs": [],
   "source": [
    "# SGDClassifier import\n",
    "from sklearn.linear_model import SGDClassifier"
   ]
  },
  {
   "cell_type": "code",
   "execution_count": 104,
   "id": "66214b38",
   "metadata": {},
   "outputs": [],
   "source": [
    "sgd_data = SGDClassifier()"
   ]
  },
  {
   "cell_type": "code",
   "execution_count": 132,
   "id": "1a139e1f",
   "metadata": {},
   "outputs": [
    {
     "data": {
      "text/plain": [
       "0.9666666666666667"
      ]
     },
     "execution_count": 132,
     "metadata": {},
     "output_type": "execute_result"
    }
   ],
   "source": [
    "sgd_data.fit(x_train, y_train)\n",
    "d_pred_sg= sgd_data.predict(x_test)\n",
    "\n",
    "accuracy_sg = accuracy_score(y_test, d_pred_sg)\n",
    "accuracy_sg"
   ]
  },
  {
   "cell_type": "code",
   "execution_count": 129,
   "id": "094484da",
   "metadata": {},
   "outputs": [
    {
     "name": "stdout",
     "output_type": "stream",
     "text": [
      "              precision    recall  f1-score   support\n",
      "\n",
      "           0       1.00      1.00      1.00        37\n",
      "           1       0.83      0.97      0.90        31\n",
      "           2       1.00      1.00      1.00        28\n",
      "           3       0.95      0.97      0.96        38\n",
      "           4       1.00      0.98      0.99        41\n",
      "           5       0.92      1.00      0.96        33\n",
      "           6       1.00      0.98      0.99        45\n",
      "           7       1.00      0.97      0.99        40\n",
      "           8       1.00      0.86      0.92        35\n",
      "           9       0.94      0.91      0.92        32\n",
      "\n",
      "    accuracy                           0.96       360\n",
      "   macro avg       0.96      0.96      0.96       360\n",
      "weighted avg       0.97      0.96      0.96       360\n",
      "\n"
     ]
    }
   ],
   "source": [
    "print(classification_report(y_test, d_pred_sg))"
   ]
  },
  {
   "cell_type": "markdown",
   "id": "88789c78",
   "metadata": {},
   "source": [
    "# Logistic Regression\n",
    "## 소프트맥스 함수를 사용한 다중 클래스 분류 알고리즘\n",
    "### 소프트맥스 함수: 클래스가 N개일 때, N차원의 벡터가 각 클래스가 정답일 확률을 표현하도록 정규화를 해주는 함수. 아래의 그림은 4차원의 벡터를 입력받으로 받아 3개의 클래스를 예측하는 경우로 동작 과정을 보여준다."
   ]
  },
  {
   "cell_type": "code",
   "execution_count": 118,
   "id": "e0b6b572",
   "metadata": {},
   "outputs": [],
   "source": [
    "from sklearn.linear_model import LogisticRegression\n",
    "\n",
    "logistic_data = LogisticRegression(max_iter=3000)"
   ]
  },
  {
   "cell_type": "code",
   "execution_count": 138,
   "id": "07c32d82",
   "metadata": {},
   "outputs": [
    {
     "data": {
      "text/plain": [
       "0.9777777777777777"
      ]
     },
     "execution_count": 138,
     "metadata": {},
     "output_type": "execute_result"
    }
   ],
   "source": [
    "logistic_data.fit(x_train, y_train)\n",
    "d_pred_Lr = logistic_data.predict(x_test)\n",
    "\n",
    "accuracy_Lr = accuracy_score(y_test, d_pred_Lr)\n",
    "accuracy_Lr"
   ]
  },
  {
   "cell_type": "code",
   "execution_count": 139,
   "id": "2f18bca6",
   "metadata": {},
   "outputs": [
    {
     "name": "stdout",
     "output_type": "stream",
     "text": [
      "              precision    recall  f1-score   support\n",
      "\n",
      "           0       1.00      1.00      1.00        37\n",
      "           1       0.97      0.94      0.95        31\n",
      "           2       1.00      1.00      1.00        28\n",
      "           3       0.95      1.00      0.97        38\n",
      "           4       1.00      1.00      1.00        41\n",
      "           5       0.97      0.97      0.97        33\n",
      "           6       0.98      0.98      0.98        45\n",
      "           7       0.97      0.97      0.97        40\n",
      "           8       0.97      0.97      0.97        35\n",
      "           9       0.97      0.94      0.95        32\n",
      "\n",
      "    accuracy                           0.98       360\n",
      "   macro avg       0.98      0.98      0.98       360\n",
      "weighted avg       0.98      0.98      0.98       360\n",
      "\n"
     ]
    }
   ],
   "source": [
    "print(classification_report(y_test, d_pred_Lr))"
   ]
  }
 ],
 "metadata": {
  "kernelspec": {
   "display_name": "Python 3 (ipykernel)",
   "language": "python",
   "name": "python3"
  },
  "language_info": {
   "codemirror_mode": {
    "name": "ipython",
    "version": 3
   },
   "file_extension": ".py",
   "mimetype": "text/x-python",
   "name": "python",
   "nbconvert_exporter": "python",
   "pygments_lexer": "ipython3",
   "version": "3.9.7"
  }
 },
 "nbformat": 4,
 "nbformat_minor": 5
}
