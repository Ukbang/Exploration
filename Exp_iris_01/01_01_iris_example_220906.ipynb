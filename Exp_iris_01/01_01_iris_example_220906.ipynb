{
 "cells": [
  {
   "cell_type": "code",
   "execution_count": 1,
   "id": "792f24f1",
   "metadata": {},
   "outputs": [
    {
     "name": "stdout",
     "output_type": "stream",
     "text": [
      "              precision    recall  f1-score   support\n",
      "\n",
      "           0       1.00      1.00      1.00         7\n",
      "           1       0.91      0.83      0.87        12\n",
      "           2       0.83      0.91      0.87        11\n",
      "\n",
      "    accuracy                           0.90        30\n",
      "   macro avg       0.91      0.91      0.91        30\n",
      "weighted avg       0.90      0.90      0.90        30\n",
      "\n"
     ]
    }
   ],
   "source": [
    "# (1) 필요한 모듈 import\n",
    "\n",
    "from sklearn.datasets import load_iris # iris의 데이터를 가져온다.\n",
    "from sklearn.model_selection import train_test_split # training 과 test 데이터 분류\n",
    "from sklearn.tree import DecisionTreeClassifier # DicisionTree 가져옴\n",
    "from sklearn.metrics import classification_report # 결과값 낼때 사용\n",
    "\n",
    "# (2) 데이터 준비\n",
    "\n",
    "iris = load_iris() #iris 변수에 가져온 iris 데이터 할당\n",
    "iris_data = iris.data #iris_data에 iris의 data값 할당\n",
    "iris_label = iris.target #iris의 target 값 할당\n",
    "\n",
    "# (3) train, test 데이터 분리\n",
    "\n",
    "x_train, x_test, y_train, y_test = train_test_split(iris_data,\n",
    "                                                    iris_label,\n",
    "                                                    test_size = 0.2,\n",
    "                                                    random_state = 7)\n",
    "\n",
    "# (4) 모델 학습 및 예측\n",
    "\n",
    "decision_tree = DecisionTreeClassifier(random_state=32)\n",
    "decision_tree.fit(x_train, y_train) #decisiontree 에 데이터값 입력\n",
    "y_pred = decision_tree.predict(x_test) #y_pred에 테스트데이터값 입력\n",
    "\n",
    "print(classification_report(y_test, y_pred)) #classification_report로 결과값을 표형태로 출력\n",
    "                                             #y_test와 y_pred로 테스트값 할당"
   ]
  },
  {
   "cell_type": "code",
   "execution_count": null,
   "id": "6019b1e8",
   "metadata": {},
   "outputs": [],
   "source": []
  }
 ],
 "metadata": {
  "kernelspec": {
   "display_name": "Python 3 (ipykernel)",
   "language": "python",
   "name": "python3"
  },
  "language_info": {
   "codemirror_mode": {
    "name": "ipython",
    "version": 3
   },
   "file_extension": ".py",
   "mimetype": "text/x-python",
   "name": "python",
   "nbconvert_exporter": "python",
   "pygments_lexer": "ipython3",
   "version": "3.9.7"
  }
 },
 "nbformat": 4,
 "nbformat_minor": 5
}
